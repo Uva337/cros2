{
 "cells": [
  {
   "cell_type": "markdown",
   "metadata": {},
   "source": [
    "Дана целочисленная квадратная матрица. Определить:\n",
    "произведение элементов в тех строках, которые не содержат отрицательных элементов;\n",
    "максимум среди сумм элементов диагоналей, параллельных главной диагонали матрицы."
   ]
  },
  {
   "cell_type": "code",
   "execution_count": 27,
   "metadata": {},
   "outputs": [
    {
     "name": "stdout",
     "output_type": "stream",
     "text": [
      "  2   7   1  -2   0\n",
      "  8   7   5   9   9\n",
      "  7  -1   5   4  -1\n",
      "  7   8  -3   1   8\n",
      "  2  -1   3   8   7\n",
      "22680\n",
      "24\n"
     ]
    }
   ],
   "source": [
    "import numpy as np\n",
    "from random import randint\n",
    "n = 5\n",
    "a = [[randint(-3,9) for i in range(n)] for j in range(n)]\n",
    "for row in a:\n",
    "    print(*map('{:3d}'.format, row))\n",
    " \n",
    "dmax = a[0][0]\n",
    "for k in range(n):\n",
    "    s1 = sum(a[i][i+k] for i in range(n-k))\n",
    "    s2 = sum(a[i+k][i] for i in range(n-k))\n",
    "    dmax = max(dmax, s1, s2)\n",
    "    if all(el >= 0 for el in a[k]):\n",
    "        print( np.prod(a[k]))\n",
    "print(dmax)"
   ]
  },
  {
   "cell_type": "code",
   "execution_count": null,
   "metadata": {},
   "outputs": [],
   "source": []
  },
  {
   "cell_type": "code",
   "execution_count": null,
   "metadata": {},
   "outputs": [],
   "source": []
  }
 ],
 "metadata": {
  "kernelspec": {
   "display_name": "Python 3",
   "language": "python",
   "name": "python3"
  },
  "language_info": {
   "codemirror_mode": {
    "name": "ipython",
    "version": 3
   },
   "file_extension": ".py",
   "mimetype": "text/x-python",
   "name": "python",
   "nbconvert_exporter": "python",
   "pygments_lexer": "ipython3",
   "version": "3.8.3"
  }
 },
 "nbformat": 4,
 "nbformat_minor": 4
}
